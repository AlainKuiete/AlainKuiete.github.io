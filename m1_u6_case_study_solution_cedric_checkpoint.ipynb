{
  "nbformat": 4,
  "nbformat_minor": 0,
  "metadata": {
    "kernelspec": {
      "display_name": "Python 3",
      "language": "python",
      "name": "python3"
    },
    "language_info": {
      "codemirror_mode": {
        "name": "ipython",
        "version": 3
      },
      "file_extension": ".py",
      "mimetype": "text/x-python",
      "name": "python",
      "nbconvert_exporter": "python",
      "pygments_lexer": "ipython3",
      "version": "3.7.3"
    },
    "colab": {
      "name": "m1-u6-case-study-solution-cedric-checkpoint.ipynb",
      "provenance": [],
      "include_colab_link": true
    }
  },
  "cells": [
    {
      "cell_type": "markdown",
      "metadata": {
        "id": "view-in-github",
        "colab_type": "text"
      },
      "source": [
        "<a href=\"https://colab.research.google.com/github/AlainKuiete/AlainKuiete.github.io/blob/master/m1_u6_case_study_solution_cedric_checkpoint.ipynb\" target=\"_parent\"><img src=\"https://colab.research.google.com/assets/colab-badge.svg\" alt=\"Open In Colab\"/></a>"
      ]
    },
    {
      "cell_type": "markdown",
      "metadata": {
        "id": "Vs7Nu_xFt-X_",
        "colab_type": "text"
      },
      "source": [
        "![ibm-cloud.png](attachment:ibm-cloud.png)\n",
        "\n",
        "# Case Study - Data ingestion"
      ]
    },
    {
      "cell_type": "markdown",
      "metadata": {
        "id": "buZAv09Ft-YB",
        "colab_type": "text"
      },
      "source": [
        "The goal of this case study is to put into practice the important concepts from module 1.  We will go through the basic process that begins with refining the business opportunity and ensuring that it is articulated using a scientific thought process.\n",
        "\n",
        "The business opportunity and case study was first mentioned in Unit 2 of module 1 and like the AAVIAL company itself these data were created for learning purposes.  We will be using the AAVAIL example as a basis for this case study. You will be gathering data from several provided sources, staging it for quality assurance and saving it in a target destination that is most appropriate.\n"
      ]
    },
    {
      "cell_type": "markdown",
      "metadata": {
        "id": "MjJ4c9IGt-YC",
        "colab_type": "text"
      },
      "source": [
        "## Case study overall objectives\n",
        "\n",
        "1. Gather all relevant data from the sources of provided data\n",
        "2. Implement several checks for quality assurance \n",
        "3. Take the initial steps towards automation of the ingestion pipeline\n",
        "\n",
        "## Getting started\n",
        "\n",
        "Download this notebook and open it locally using a Jupyter server. Alternatively you may use Watson Studio.  To make using Watson Studio easier we have provided a zip archive file containing the files needed to complete this case study in Watson Studio. See the [Getting started with Watson Studio](m1-u5-5-watson-studio.rst) page.\n",
        "\n",
        "**You will need the following files to complete this case study**\n",
        "\n",
        "* [m1-u6-case-study.ipynb](m1-u6-case-study.ipynb)\n",
        "* [m1-u6-case-study-solution.ipynb](./notebooks/m1-u6-case-study-solution.ipynb)\n",
        "* [aavail-customers.db](./data/aavail-customers.db)\n",
        "* [aavail-steams.csv](./data/aavail-streams.csv)\n",
        "\n",
        "1. Fill in all of the places in this notebook marked with ***YOUR CODE HERE*** or ***YOUR ANSWER HERE***\n",
        "2. When you have finished the case study there will be a short quiz\n",
        "\n",
        "You may review the rest of this content as part of the notebook, but once you are ready to get started be ensure that you are working with a *live* version either as part of Watson Studio or locally."
      ]
    },
    {
      "cell_type": "markdown",
      "metadata": {
        "id": "ixLrWHeNt-YD",
        "colab_type": "text"
      },
      "source": [
        "## Data Sources\n",
        "\n",
        "The data you will be sourcing from is contained in two sources.\n",
        "\n",
        "1. A database ([SQLite](https://www.sqlite.org/index.html)) of `customer` data\n",
        "2. A [CSV file](https://en.wikipedia.org/wiki/Comma-separated_values) of `stream` level data\n",
        "\n",
        "   >You will create a simple data pipeline that\n",
        "   (1) simplifies the data for future analysis\n",
        "   (2) performs quality assurance checks.\n",
        "\n",
        "The process of building *the data ingestion pipeline* entails extracting data, transforming it, and loading it into an appropriate data storage technology.  When constructing a pipeline it is important to keep in mind that they generally process data in batches.  For example, data may be compiled during the day and the batch could be processed during the night.  The data pipeline may also be optimized to execute as a streaming computation (i.e., every event is handled as it occurs)."
      ]
    },
    {
      "cell_type": "markdown",
      "metadata": {
        "id": "e1I1QI_Qt-YD",
        "colab_type": "text"
      },
      "source": [
        "## PART 1: Gathering the data\n",
        "\n",
        "The following is an [Entity Relationship Diagram (ERD)](https://en.wikipedia.org/wiki/Entity%E2%80%93relationship_model) that details the tables and contents of the database.\n",
        "\n",
        "![aavail-schema.svg](attachment:aavail-schema.svg)"
      ]
    },
    {
      "cell_type": "code",
      "metadata": {
        "id": "IphYCRC8t-YE",
        "colab_type": "code",
        "colab": {}
      },
      "source": [
        "## all the imports you will need for this case study\n",
        "import os\n",
        "import pandas as pd\n",
        "import numpy as np\n",
        "import sqlite3\n",
        "\n",
        "## specify the directory you saved the data in\n",
        "data_dir = os.path.join(\"C:\\\\Coursera\\AI-Enterprise-Workflow-Module-1-Case-Study-Local\\data\",\"data\")"
      ],
      "execution_count": null,
      "outputs": []
    },
    {
      "cell_type": "markdown",
      "metadata": {
        "id": "-48hKPImt-YK",
        "colab_type": "text"
      },
      "source": [
        "Much of the data exist in a database.  You can connect to it using the `sqlite3` Python package with the function shown below.  Note that is is good practice to wrap your connect functions in a [try-except statement](https://docs.python.org/3/tutorial/errors.html) to cleanly handle exceptions."
      ]
    },
    {
      "cell_type": "code",
      "metadata": {
        "id": "O5PL1g8tt-YL",
        "colab_type": "code",
        "colab": {}
      },
      "source": [
        "def connect_db(file_path):\n",
        "    try:\n",
        "        conn = sqlite3.connect(file_path)\n",
        "        print(\"...successfully connected to db\\n\")\n",
        "    except Error as e:\n",
        "        print(\"...unsuccessful connection\\n\",e)\n",
        "    \n",
        "    return(conn)"
      ],
      "execution_count": null,
      "outputs": []
    },
    {
      "cell_type": "code",
      "metadata": {
        "id": "VxwH3AYxt-YP",
        "colab_type": "code",
        "colab": {
          "base_uri": "https://localhost:8080/",
          "height": 425
        },
        "outputId": "9b8426de-8219-44e8-e886-6fa07e2ef48f"
      },
      "source": [
        "## make the connection to the database\n",
        "conn = connect_db(os.path.join(data_dir,\"aavail-customers.db\"))\n",
        "\n",
        "cursorObj.execute('SELECT * FROM employees ')\n",
        "## print the table names\n",
        "tables = [t[0] for t in conn.execute(\"SELECT name FROM sqlite_master WHERE type='table';\")]\n",
        "print(tables)"
      ],
      "execution_count": null,
      "outputs": [
        {
          "output_type": "error",
          "ename": "NameError",
          "evalue": "ignored",
          "traceback": [
            "\u001b[0;31m---------------------------------------------------------------------------\u001b[0m",
            "\u001b[0;31mOperationalError\u001b[0m                          Traceback (most recent call last)",
            "\u001b[0;32m<ipython-input-3-b7c457475fcb>\u001b[0m in \u001b[0;36mconnect_db\u001b[0;34m(file_path)\u001b[0m\n\u001b[1;32m      2\u001b[0m     \u001b[0;32mtry\u001b[0m\u001b[0;34m:\u001b[0m\u001b[0;34m\u001b[0m\u001b[0;34m\u001b[0m\u001b[0m\n\u001b[0;32m----> 3\u001b[0;31m         \u001b[0mconn\u001b[0m \u001b[0;34m=\u001b[0m \u001b[0msqlite3\u001b[0m\u001b[0;34m.\u001b[0m\u001b[0mconnect\u001b[0m\u001b[0;34m(\u001b[0m\u001b[0mfile_path\u001b[0m\u001b[0;34m)\u001b[0m\u001b[0;34m\u001b[0m\u001b[0;34m\u001b[0m\u001b[0m\n\u001b[0m\u001b[1;32m      4\u001b[0m         \u001b[0mprint\u001b[0m\u001b[0;34m(\u001b[0m\u001b[0;34m\"...successfully connected to db\\n\"\u001b[0m\u001b[0;34m)\u001b[0m\u001b[0;34m\u001b[0m\u001b[0;34m\u001b[0m\u001b[0m\n",
            "\u001b[0;31mOperationalError\u001b[0m: unable to open database file",
            "\nDuring handling of the above exception, another exception occurred:\n",
            "\u001b[0;31mNameError\u001b[0m                                 Traceback (most recent call last)",
            "\u001b[0;32m<ipython-input-4-1365ef88328a>\u001b[0m in \u001b[0;36m<module>\u001b[0;34m()\u001b[0m\n\u001b[1;32m      1\u001b[0m \u001b[0;31m## make the connection to the database\u001b[0m\u001b[0;34m\u001b[0m\u001b[0;34m\u001b[0m\u001b[0;34m\u001b[0m\u001b[0m\n\u001b[0;32m----> 2\u001b[0;31m \u001b[0mconn\u001b[0m \u001b[0;34m=\u001b[0m \u001b[0mconnect_db\u001b[0m\u001b[0;34m(\u001b[0m\u001b[0mos\u001b[0m\u001b[0;34m.\u001b[0m\u001b[0mpath\u001b[0m\u001b[0;34m.\u001b[0m\u001b[0mjoin\u001b[0m\u001b[0;34m(\u001b[0m\u001b[0mdata_dir\u001b[0m\u001b[0;34m,\u001b[0m\u001b[0;34m\"aavail-customers.db\"\u001b[0m\u001b[0;34m)\u001b[0m\u001b[0;34m)\u001b[0m\u001b[0;34m\u001b[0m\u001b[0;34m\u001b[0m\u001b[0m\n\u001b[0m\u001b[1;32m      3\u001b[0m \u001b[0;34m\u001b[0m\u001b[0m\n\u001b[1;32m      4\u001b[0m \u001b[0;31m## print the table names\u001b[0m\u001b[0;34m\u001b[0m\u001b[0;34m\u001b[0m\u001b[0;34m\u001b[0m\u001b[0m\n\u001b[1;32m      5\u001b[0m \u001b[0mtables\u001b[0m \u001b[0;34m=\u001b[0m \u001b[0;34m[\u001b[0m\u001b[0mt\u001b[0m\u001b[0;34m[\u001b[0m\u001b[0;36m0\u001b[0m\u001b[0;34m]\u001b[0m \u001b[0;32mfor\u001b[0m \u001b[0mt\u001b[0m \u001b[0;32min\u001b[0m \u001b[0mconn\u001b[0m\u001b[0;34m.\u001b[0m\u001b[0mexecute\u001b[0m\u001b[0;34m(\u001b[0m\u001b[0;34m\"SELECT name FROM sqlite_master WHERE type='table';\"\u001b[0m\u001b[0;34m)\u001b[0m\u001b[0;34m]\u001b[0m\u001b[0;34m\u001b[0m\u001b[0;34m\u001b[0m\u001b[0m\n",
            "\u001b[0;32m<ipython-input-3-b7c457475fcb>\u001b[0m in \u001b[0;36mconnect_db\u001b[0;34m(file_path)\u001b[0m\n\u001b[1;32m      3\u001b[0m         \u001b[0mconn\u001b[0m \u001b[0;34m=\u001b[0m \u001b[0msqlite3\u001b[0m\u001b[0;34m.\u001b[0m\u001b[0mconnect\u001b[0m\u001b[0;34m(\u001b[0m\u001b[0mfile_path\u001b[0m\u001b[0;34m)\u001b[0m\u001b[0;34m\u001b[0m\u001b[0;34m\u001b[0m\u001b[0m\n\u001b[1;32m      4\u001b[0m         \u001b[0mprint\u001b[0m\u001b[0;34m(\u001b[0m\u001b[0;34m\"...successfully connected to db\\n\"\u001b[0m\u001b[0;34m)\u001b[0m\u001b[0;34m\u001b[0m\u001b[0;34m\u001b[0m\u001b[0m\n\u001b[0;32m----> 5\u001b[0;31m     \u001b[0;32mexcept\u001b[0m \u001b[0mError\u001b[0m \u001b[0;32mas\u001b[0m \u001b[0me\u001b[0m\u001b[0;34m:\u001b[0m\u001b[0;34m\u001b[0m\u001b[0;34m\u001b[0m\u001b[0m\n\u001b[0m\u001b[1;32m      6\u001b[0m         \u001b[0mprint\u001b[0m\u001b[0;34m(\u001b[0m\u001b[0;34m\"...unsuccessful connection\\n\"\u001b[0m\u001b[0;34m,\u001b[0m\u001b[0me\u001b[0m\u001b[0;34m)\u001b[0m\u001b[0;34m\u001b[0m\u001b[0;34m\u001b[0m\u001b[0m\n\u001b[1;32m      7\u001b[0m \u001b[0;34m\u001b[0m\u001b[0m\n",
            "\u001b[0;31mNameError\u001b[0m: name 'Error' is not defined"
          ]
        }
      ]
    },
    {
      "cell_type": "markdown",
      "metadata": {
        "id": "ykfn02lRt-YS",
        "colab_type": "text"
      },
      "source": [
        "### QUESTION 1:\n",
        "\n",
        "**extract the relevant data from the DB**\n",
        "\n",
        "Query the database and extract the following data into a [Pandas DataFrame](https://pandas.pydata.org/pandas-docs/stable/reference/api/pandas.DataFrame.html).\n",
        " \n",
        "* Customer ID (integer)\n",
        "* Last name\n",
        "* First name\n",
        "* DOB (Date Of Birth)\n",
        "* City\n",
        "* State\n",
        "* Country (the name NOT the country_id)\n",
        "* Gender\n",
        "\n",
        "Remember that that SQL is case-insensitive, but it is traditional to use ALL CAPS for SQL keywords. It is also a convention to end SQL statements with a semi-colon.  \n",
        "\n",
        "#### Resources\n",
        "\n",
        "* [W3 schools SQL tutorial](https://www.w3schools.com/sql)\n",
        "* [W3 schools SQL joins](https://www.w3schools.com/sql/sql_join.asp)"
      ]
    },
    {
      "cell_type": "code",
      "metadata": {
        "id": "ZQJPuOLpt-YT",
        "colab_type": "code",
        "colab": {},
        "outputId": "6ae2eddf-0701-441c-a966-4eb258af541d"
      },
      "source": [
        "## YOUR CODE HERE\n",
        "query = \"\"\"\n",
        "SELECT cu.customer_id, cu.last_name, cu.first_name, cu.DOB,\n",
        "       cu.city, cu.state, co.country_name, cu.gender\n",
        "FROM CUSTOMER cu\n",
        "INNER JOIN COUNTRY co\n",
        "ON cu.country_id = co.country_id;\n",
        "\"\"\"\n",
        "\n",
        "df_db = pd.read_sql_query(query, conn)\n",
        "df_db.head()"
      ],
      "execution_count": null,
      "outputs": [
        {
          "output_type": "execute_result",
          "data": {
            "text/html": [
              "<div>\n",
              "<style scoped>\n",
              "    .dataframe tbody tr th:only-of-type {\n",
              "        vertical-align: middle;\n",
              "    }\n",
              "\n",
              "    .dataframe tbody tr th {\n",
              "        vertical-align: top;\n",
              "    }\n",
              "\n",
              "    .dataframe thead th {\n",
              "        text-align: right;\n",
              "    }\n",
              "</style>\n",
              "<table border=\"1\" class=\"dataframe\">\n",
              "  <thead>\n",
              "    <tr style=\"text-align: right;\">\n",
              "      <th></th>\n",
              "      <th>customer_id</th>\n",
              "      <th>last_name</th>\n",
              "      <th>first_name</th>\n",
              "      <th>DOB</th>\n",
              "      <th>city</th>\n",
              "      <th>state</th>\n",
              "      <th>country_name</th>\n",
              "      <th>gender</th>\n",
              "    </tr>\n",
              "  </thead>\n",
              "  <tbody>\n",
              "    <tr>\n",
              "      <th>0</th>\n",
              "      <td>1</td>\n",
              "      <td>Todd</td>\n",
              "      <td>Kasen</td>\n",
              "      <td>07/30/98</td>\n",
              "      <td>Rock Hill</td>\n",
              "      <td>South Carolina</td>\n",
              "      <td>united_states</td>\n",
              "      <td>m</td>\n",
              "    </tr>\n",
              "    <tr>\n",
              "      <th>1</th>\n",
              "      <td>2</td>\n",
              "      <td>Garza</td>\n",
              "      <td>Ensley</td>\n",
              "      <td>04/12/89</td>\n",
              "      <td>singapore</td>\n",
              "      <td>None</td>\n",
              "      <td>singapore</td>\n",
              "      <td>f</td>\n",
              "    </tr>\n",
              "    <tr>\n",
              "      <th>2</th>\n",
              "      <td>3</td>\n",
              "      <td>Carey</td>\n",
              "      <td>Lillian</td>\n",
              "      <td>09/12/97</td>\n",
              "      <td>Auburn</td>\n",
              "      <td>Alabama</td>\n",
              "      <td>united_states</td>\n",
              "      <td>f</td>\n",
              "    </tr>\n",
              "    <tr>\n",
              "      <th>3</th>\n",
              "      <td>4</td>\n",
              "      <td>Christensen</td>\n",
              "      <td>Beau</td>\n",
              "      <td>01/28/99</td>\n",
              "      <td>Hempstead</td>\n",
              "      <td>New York</td>\n",
              "      <td>united_states</td>\n",
              "      <td>m</td>\n",
              "    </tr>\n",
              "    <tr>\n",
              "      <th>4</th>\n",
              "      <td>5</td>\n",
              "      <td>Gibson</td>\n",
              "      <td>Ernesto</td>\n",
              "      <td>03/23/98</td>\n",
              "      <td>singapore</td>\n",
              "      <td>None</td>\n",
              "      <td>singapore</td>\n",
              "      <td>m</td>\n",
              "    </tr>\n",
              "  </tbody>\n",
              "</table>\n",
              "</div>"
            ],
            "text/plain": [
              "   customer_id    last_name first_name       DOB       city           state  \\\n",
              "0            1         Todd      Kasen  07/30/98  Rock Hill  South Carolina   \n",
              "1            2        Garza     Ensley  04/12/89  singapore            None   \n",
              "2            3        Carey    Lillian  09/12/97     Auburn         Alabama   \n",
              "3            4  Christensen       Beau  01/28/99  Hempstead        New York   \n",
              "4            5       Gibson    Ernesto  03/23/98  singapore            None   \n",
              "\n",
              "    country_name gender  \n",
              "0  united_states      m  \n",
              "1      singapore      f  \n",
              "2  united_states      f  \n",
              "3  united_states      m  \n",
              "4      singapore      m  "
            ]
          },
          "metadata": {
            "tags": []
          },
          "execution_count": 5
        }
      ]
    },
    {
      "cell_type": "markdown",
      "metadata": {
        "id": "g-Dyc87Yt-YX",
        "colab_type": "text"
      },
      "source": [
        "### QUESTION 2:\n",
        "\n",
        "**Extract the relevant data from the CSV file**\n",
        "\n",
        "For each ```customer_id``` determine if a customer has stopped their subscription or not and save it in a dictionary or another data container."
      ]
    },
    {
      "cell_type": "code",
      "metadata": {
        "id": "5psl87wxt-YX",
        "colab_type": "code",
        "colab": {},
        "outputId": "f94b793f-3e13-470b-f5ee-c7633ceed0dd"
      },
      "source": [
        "df_streams = pd.read_csv(os.path.join(data_dir, r\"aavail-streams.csv\"))\n",
        "df_streams.head()"
      ],
      "execution_count": null,
      "outputs": [
        {
          "output_type": "execute_result",
          "data": {
            "text/html": [
              "<div>\n",
              "<style scoped>\n",
              "    .dataframe tbody tr th:only-of-type {\n",
              "        vertical-align: middle;\n",
              "    }\n",
              "\n",
              "    .dataframe tbody tr th {\n",
              "        vertical-align: top;\n",
              "    }\n",
              "\n",
              "    .dataframe thead th {\n",
              "        text-align: right;\n",
              "    }\n",
              "</style>\n",
              "<table border=\"1\" class=\"dataframe\">\n",
              "  <thead>\n",
              "    <tr style=\"text-align: right;\">\n",
              "      <th></th>\n",
              "      <th>customer_id</th>\n",
              "      <th>stream_id</th>\n",
              "      <th>date</th>\n",
              "      <th>invoice_item_id</th>\n",
              "      <th>subscription_stopped</th>\n",
              "    </tr>\n",
              "  </thead>\n",
              "  <tbody>\n",
              "    <tr>\n",
              "      <th>0</th>\n",
              "      <td>1</td>\n",
              "      <td>1420.0</td>\n",
              "      <td>2018-10-21</td>\n",
              "      <td>2.0</td>\n",
              "      <td>0</td>\n",
              "    </tr>\n",
              "    <tr>\n",
              "      <th>1</th>\n",
              "      <td>1</td>\n",
              "      <td>1343.0</td>\n",
              "      <td>2018-10-23</td>\n",
              "      <td>2.0</td>\n",
              "      <td>0</td>\n",
              "    </tr>\n",
              "    <tr>\n",
              "      <th>2</th>\n",
              "      <td>1</td>\n",
              "      <td>1756.0</td>\n",
              "      <td>2018-11-05</td>\n",
              "      <td>2.0</td>\n",
              "      <td>0</td>\n",
              "    </tr>\n",
              "    <tr>\n",
              "      <th>3</th>\n",
              "      <td>1</td>\n",
              "      <td>1250.0</td>\n",
              "      <td>2018-11-06</td>\n",
              "      <td>2.0</td>\n",
              "      <td>0</td>\n",
              "    </tr>\n",
              "    <tr>\n",
              "      <th>4</th>\n",
              "      <td>1</td>\n",
              "      <td>1324.0</td>\n",
              "      <td>2018-11-12</td>\n",
              "      <td>2.0</td>\n",
              "      <td>0</td>\n",
              "    </tr>\n",
              "  </tbody>\n",
              "</table>\n",
              "</div>"
            ],
            "text/plain": [
              "   customer_id  stream_id        date  invoice_item_id  subscription_stopped\n",
              "0            1     1420.0  2018-10-21              2.0                     0\n",
              "1            1     1343.0  2018-10-23              2.0                     0\n",
              "2            1     1756.0  2018-11-05              2.0                     0\n",
              "3            1     1250.0  2018-11-06              2.0                     0\n",
              "4            1     1324.0  2018-11-12              2.0                     0"
            ]
          },
          "metadata": {
            "tags": []
          },
          "execution_count": 6
        }
      ]
    },
    {
      "cell_type": "code",
      "metadata": {
        "id": "1LB8-rh3t-YZ",
        "colab_type": "code",
        "colab": {}
      },
      "source": [
        "## YOUR CODE HERE\n",
        "\n",
        "has_stopped = df_streams.groupby(\"customer_id\").apply(lambda x : True if x['subscription_stopped'].max() > 0 else False)"
      ],
      "execution_count": null,
      "outputs": []
    },
    {
      "cell_type": "markdown",
      "metadata": {
        "id": "QkH6TpFPt-Ye",
        "colab_type": "text"
      },
      "source": [
        "## PART 2: Checks for quality assurance\n",
        "\n",
        "Sometimes it is known in advance which types of data integrity issues to expect, but other times it is during the Exploratory Data Analysis (EDA) process that these issues are identified.  After extracting data it is important to include checks for quality assurance even on the first pass through the AI workflow.  Here you will combine the data into a single structure and provide a couple checks for quality assurance.\n",
        "\n",
        "### QUESTION 3: \n",
        "\n",
        "**Implement checks for quality assurance**\n",
        "\n",
        "1. In the customer dataframe loaded question 1, remove any repeat customers based on ```customer_id```\n",
        "2. In the streams dataset, remove stream data that do not have an associated ```stream_id```\n",
        "3. Check for missing values in both datasets."
      ]
    },
    {
      "cell_type": "code",
      "metadata": {
        "id": "QjmiDqkAt-Ye",
        "colab_type": "code",
        "colab": {},
        "outputId": "adfa6a07-7538-45dc-b76b-099972eda09e"
      },
      "source": [
        "## YOUR CODE HERE\n",
        "print(\"\\nCleaning Summary\\n{}\".format(\"-\"*35))\n",
        "size_before = len(df_db)\n",
        "df_db.drop_duplicates(subset='customer_id', keep=\"first\", inplace=True )\n",
        "size_after = len(df_db)\n",
        "print(\"... removed {} duplicate rows in db data\".format(size_before-size_after))\n",
        "\n",
        "size_before = len(df_streams)\n",
        "df_streams = df_streams[~df_streams['stream_id'].isna()]\n",
        "size_after = len(df_streams)\n",
        "print(\"... removed {} missing stream ids\".format(size_before-size_after))\n",
        "\n",
        "print(\"\\nMissing Value Summary\\n{}\".format(\"-\"*35))\n",
        "print(\"\\ndf_db\\n{}\".format(\"-\"*15))\n",
        "print(df_db.isnull().sum(axis = 0))\n",
        "print(\"\\ndf_streams\\n{}\".format(\"-\"*15))\n",
        "print(df_streams.isnull().sum(axis = 0))"
      ],
      "execution_count": null,
      "outputs": [
        {
          "output_type": "stream",
          "text": [
            "\n",
            "Cleaning Summary\n",
            "-----------------------------------\n",
            "... removed 7 duplicate rows in db data\n",
            "... removed 1164 missing stream ids\n",
            "\n",
            "Missing Value Summary\n",
            "-----------------------------------\n",
            "\n",
            "df_db\n",
            "---------------\n",
            "customer_id       0\n",
            "last_name         0\n",
            "first_name        0\n",
            "DOB               0\n",
            "city              0\n",
            "state           300\n",
            "country_name      0\n",
            "gender            0\n",
            "dtype: int64\n",
            "\n",
            "df_streams\n",
            "---------------\n",
            "customer_id             0\n",
            "stream_id               0\n",
            "date                    0\n",
            "invoice_item_id         0\n",
            "subscription_stopped    0\n",
            "dtype: int64\n"
          ],
          "name": "stdout"
        }
      ]
    },
    {
      "cell_type": "markdown",
      "metadata": {
        "id": "-tsSpetct-Yh",
        "colab_type": "text"
      },
      "source": [
        "### QUESTION 4: \n",
        "\n",
        "**combine the data into a single data structure**\n",
        "\n",
        "For this example, the two most convenient structures for this task are Pandas dataframes and NumPy arrays.  At a minimum ensure that your structure accommodates the following.\n",
        "\n",
        "1. A column for `customer_id`\n",
        "2. A column for `country`\n",
        "3. A column for ```age``` that is created from ```DOB```\n",
        "4. A column ```customer_name``` that is created from ```first_name``` and ```last_name```\n",
        "5. A column to indicate churn called ```is_subscriber```\n",
        "7. A column that indicates ```subscriber_type``` that comes from ```invoice_item``` \n",
        "6. A column to indicate the total ```num_streams```\n",
        "\n",
        "> HINT: For the subscriber type use the most frequent invoice_item_id and link it to the relevant invoice_item thanks to the INVOICE table in the database\n",
        "\n",
        "#### Resources\n",
        "\n",
        "* [Python's datetime library](https://docs.python.org/3/library/datetime.html)\n",
        "* [NumPy's datetime data type](https://docs.scipy.org/doc/numpy/reference/arrays.datetime.html)\n"
      ]
    },
    {
      "cell_type": "code",
      "metadata": {
        "id": "nrATXsvMt-Yh",
        "colab_type": "code",
        "colab": {}
      },
      "source": [
        "## YOUR CODE HERE\n",
        "\n",
        "# We create a copy of the customer data restricted to the customer_ids found in the stream data\n",
        "df_clean = df_db[df_db['customer_id'].isin(df_streams['customer_id'].unique())].copy()\n",
        "\n",
        "# Create customer_name column\n",
        "df_clean['customer_name'] = df_clean['first_name'] +' '+ df_clean['last_name']\n",
        "\n",
        "# Create age column from DOB\n",
        "DT = pd.Timestamp('now')\n",
        "df_clean['DOB'] = pd.to_datetime(df_clean['DOB'], format='%m/%d/%y') \n",
        "df_clean['DOB'] = df_clean['DOB'].where(df_clean['DOB'] < DT, df_clean['DOB'] -  np.timedelta64(100, 'Y'))\n",
        "df_clean['age'] = (DT - df_clean['DOB']).astype('<m8[Y]')\n",
        "\n",
        "# Create is_subscriber column \n",
        "df_clean['is_subscriber'] = df_clean.apply(lambda x : ~has_stopped[x['customer_id']], axis=1)\n",
        "\n",
        "# Create num_streams column\n",
        "df_num_streams_tmp = df_streams.groupby('customer_id')\\\n",
        "                                .size()\\\n",
        "                                .reset_index()\n",
        "df_num_streams_tmp.columns = ['customer_id', 'num_streams']\n",
        "df_clean = df_clean.merge(df_num_streams_tmp, on='customer_id')\n",
        "del df_num_streams_tmp\n",
        "\n",
        "# Create subscryber type column\n",
        "query = \"\"\"\n",
        "SELECT i.invoice_item_id, i.invoice_item\n",
        "FROM INVOICE_ITEM i;\n",
        "\"\"\"\n",
        "df_invoice = pd.read_sql_query(query, conn)\n",
        "\n",
        "df_invoice_type_tmp = df_streams[['customer_id', 'invoice_item_id']].groupby('customer_id')\\\n",
        "                                                                    .agg(lambda x:x.value_counts().index[0])\\\n",
        "                                                                    .reset_index()\n",
        "df_invoice_type_tmp = df_invoice_type_tmp.merge(df_invoice, on='invoice_item_id')\\\n",
        "                                        .drop('invoice_item_id', axis=1)\n",
        "df_invoice_type_tmp.columns = ['customer_id', 'subscriber_type']\n",
        "df_clean = df_clean.merge(df_invoice_type_tmp, on='customer_id')\n",
        "del df_invoice_type_tmp\n",
        "\n",
        "\n",
        "# Select the desired columns and copy to df_clean.\n",
        "columns_name = ['customer_id', 'country_name', 'age', 'customer_name', 'is_subscriber', 'subscriber_type', 'num_streams']\n",
        "df_clean = df_clean[columns_name]"
      ],
      "execution_count": null,
      "outputs": []
    },
    {
      "cell_type": "markdown",
      "metadata": {
        "id": "gK49EpQ5t-Yj",
        "colab_type": "text"
      },
      "source": [
        "## PART 3: Automating the process\n",
        "\n",
        "To ensure that you code can be used to automate this process.  First you will save you dataframe or numpy array as a CSV file.  \n",
        "\n",
        "### QUESTION 5:\n",
        "\n",
        "**Take the initial steps towards automation**\n",
        "\n",
        "1. Save your cleaned, combined data as a CSV file.\n",
        "2. From the code above create a function or class that performs all of the steps given a database file and a streams CSV file.\n",
        "3. Run the function in batches and write a check to ensure you got the same result that you did in the code above.\n",
        "\n",
        "There will be some logic involved to ensure that you do not write the same data twice to the target CSV file.\n",
        "\n",
        "Shown below is some code that will split your streams file into two batches. "
      ]
    },
    {
      "cell_type": "code",
      "metadata": {
        "id": "4XLNGv7Qt-Yk",
        "colab_type": "code",
        "colab": {}
      },
      "source": [
        "## code to split the streams csv into batches\n",
        "df_all = pd.read_csv(os.path.join(data_dir, \"aavail-streams.csv\"))\n",
        "customers_arr = df_all['customer_id'].unique()\n",
        "customer_batches = customers_arr.reshape(2, int(customers_arr.shape[0]/2))\n",
        "df_part1 = df_all[df_all['customer_id'].isin(customer_batches[0])]\n",
        "df_part2 = df_all[df_all['customer_id'].isin(customer_batches[1])]\n",
        "df_part1.to_csv(os.path.join(data_dir, \"aavail-streams-1.csv\"),index=False)\n",
        "df_part2.to_csv(os.path.join(data_dir, \"aavail-streams-2.csv\"),index=False)"
      ],
      "execution_count": null,
      "outputs": []
    },
    {
      "cell_type": "markdown",
      "metadata": {
        "id": "TNZHPvb-t-Yp",
        "colab_type": "text"
      },
      "source": [
        "You will need to save your function as a .py file.  The following cell demonstrates how to do this from within a notebook."
      ]
    },
    {
      "cell_type": "code",
      "metadata": {
        "id": "nLc2F7T7t-Yr",
        "colab_type": "code",
        "colab": {},
        "outputId": "4e829d2f-3ddb-4b95-c88e-218edf12979f"
      },
      "source": [
        "%%writefile aavail-data-ingestor.py\n",
        "# The line above create a file called \"aavail-data-ingestor.py\" in the current working\n",
        "# directory and write the the reste of the cell in this file.\n",
        "\n",
        "import os\n",
        "import sys\n",
        "import getopt\n",
        "import pandas as pd\n",
        "import numpy as np\n",
        "import sqlite3\n",
        "\n",
        "DATA_DIR = os.path.join(\"..\",\"data\")\n",
        "\n",
        "pass"
      ],
      "execution_count": null,
      "outputs": [
        {
          "output_type": "stream",
          "text": [
            "Overwriting aavail-data-ingestor.py\n"
          ],
          "name": "stdout"
        }
      ]
    },
    {
      "cell_type": "markdown",
      "metadata": {
        "id": "Th1DvLXDt-Yx",
        "colab_type": "text"
      },
      "source": [
        "You will also need to be able to pass the file names to your function without hardcoding them into the script itself.  This is an important step towards automation.  Here are the two libraries commonly used to accomplish this in Python.\n",
        "\n",
        "* [getopt](https://docs.python.org/3/library/getopt.html)\n",
        "* [argparse](https://docs.python.org/3/library/argparse.html)"
      ]
    },
    {
      "cell_type": "markdown",
      "metadata": {
        "id": "ML8lJ7yFt-Yy",
        "colab_type": "text"
      },
      "source": [
        "You may run the script you just created from the commandline directly or from within this notebook using:\n",
        "\n",
        "```\n",
        "!python aavail-data-ingestor.py aavail-customers.db aavail-streams.csv\n",
        "\n",
        "```"
      ]
    },
    {
      "cell_type": "code",
      "metadata": {
        "id": "U5s-OyDst-Yz",
        "colab_type": "code",
        "colab": {},
        "outputId": "7988c69f-8b6f-4eb4-db5b-9a1a6f0dafa8"
      },
      "source": [
        "%%writefile aavail-data-ingestor.py\n",
        "\n",
        "import os\n",
        "import sys\n",
        "import getopt\n",
        "import pandas as pd\n",
        "import numpy as np\n",
        "import sqlite3\n",
        "\n",
        "DATA_DIR = os.path.join(\"..\",\"data\")\n",
        "\n",
        "def connect_db(file_path):\n",
        "    \"\"\"\n",
        "    function to connection to aavail database\n",
        "    \"\"\"\n",
        "    try:\n",
        "        conn = sqlite3.connect(file_path)\n",
        "        print(\"...successfully connected to db\")\n",
        "    except Error as e:\n",
        "        print(\"...unsuccessful connection\", e)\n",
        "    \n",
        "    return(conn)\n",
        "\n",
        "def ingest_db_data(conn):\n",
        "    \"\"\"\n",
        "    load and clean the db data\n",
        "    \"\"\"\n",
        "    \n",
        "    query = \"\"\"\n",
        "    SELECT cu.customer_id, cu.last_name, cu.first_name, cu.DOB,\n",
        "           cu.city, cu.state, co.country_name, cu.gender\n",
        "    FROM CUSTOMER cu\n",
        "    INNER JOIN COUNTRY co\n",
        "    ON cu.country_id = co.country_id;\n",
        "    \"\"\"\n",
        "    df_db = pd.read_sql_query(query, conn)\n",
        "    \n",
        "    # Remove duplicates\n",
        "    size_before = len(df_db)\n",
        "    df_db.drop_duplicates(subset='customer_id', keep=\"first\", inplace=True )\n",
        "    size_after = len(df_db)\n",
        "    print(\"... removed {} duplicate rows in db data\".format(size_before-size_after))\n",
        "    return df_db\n",
        "\n",
        "def ingest_stream_data(file_path):\n",
        "    \"\"\"\n",
        "    load and clean the stream data\n",
        "    \"\"\"\n",
        "    \n",
        "    df_streams = pd.read_csv(file_path)  \n",
        "    size_before = len(df_streams)\n",
        "    df_streams = df_streams[~df_streams['stream_id'].isna()]\n",
        "    size_after = len(df_streams)\n",
        "    print(\"... removed {} missing stream ids\".format(size_before-size_after))\n",
        "\n",
        "    has_churned = df_streams.groupby(\"customer_id\").apply(lambda x : True if x['subscription_stopped'].max() > 0 else False)\n",
        "    \n",
        "    return df_streams, has_churned\n",
        "\n",
        "def process_dataframes(df_db, df_streams, has_churned, conn):\n",
        "    \"\"\"\n",
        "    add data to target csv\n",
        "    \"\"\"\n",
        "    df_clean = df_db[df_db['customer_id'].isin(df_streams['customer_id'].unique())].copy()\n",
        "\n",
        "    # Create customer_name column\n",
        "    df_clean['customer_name'] = df_clean['first_name'] +' '+ df_clean['last_name']\n",
        "\n",
        "    # Create age column from DOB\n",
        "    DT = pd.Timestamp('now')\n",
        "    df_clean['DOB'] = pd.to_datetime(df_clean['DOB'], format='%m/%d/%y') \n",
        "    df_clean['DOB'] = df_clean['DOB'].where(df_clean['DOB'] < DT, df_clean['DOB'] -  np.timedelta64(100, 'Y'))\n",
        "    df_clean['age'] = (DT - df_clean['DOB']).astype('<m8[Y]')\n",
        "\n",
        "    # Create is_subscriber column \n",
        "    df_clean['is_subscriber'] = df_clean.apply(lambda x : ~has_churned[x['customer_id']], axis=1)\n",
        "\n",
        "    # Create num_streams column\n",
        "    df_num_streams_tmp = df_streams.groupby('customer_id')\\\n",
        "                                    .size()\\\n",
        "                                    .reset_index()\n",
        "    df_num_streams_tmp.columns = ['customer_id', 'num_streams']\n",
        "    df_clean = df_clean.merge(df_num_streams_tmp, on='customer_id')\n",
        "\n",
        "    del df_num_streams_tmp\n",
        "\n",
        "    # Create subscryber type column\n",
        "    query = \"\"\"\n",
        "    SELECT i.invoice_item_id, i.invoice_item\n",
        "    FROM INVOICE_ITEM i;\n",
        "    \"\"\"\n",
        "    df_invoice = pd.read_sql_query(query, conn)\n",
        "\n",
        "    df_invoice_type_tmp = df_streams[['customer_id', 'invoice_item_id']].groupby('customer_id')\\\n",
        "                                                                        .agg(lambda x:x.value_counts().index[0])\\\n",
        "                                                                        .reset_index()\n",
        "    df_invoice_type_tmp = df_invoice_type_tmp.merge(df_invoice, on='invoice_item_id').drop('invoice_item_id', axis=1)\n",
        "    df_invoice_type_tmp.columns = ['customer_id', 'subscriber_type']\n",
        "    df_clean = df_clean.merge(df_invoice_type_tmp, on='customer_id')\n",
        "\n",
        "    del df_invoice_type_tmp\n",
        "\n",
        "\n",
        "    # Select the desired columns and copy to df_clean.\n",
        "    columns_name = ['customer_id', 'country_name', 'age', 'customer_name', 'is_subscriber', 'subscriber_type', 'num_streams']\n",
        "    df_clean = df_clean[columns_name]\n",
        "    \n",
        "    return(df_clean)\n",
        "    \n",
        "def update_target(target_file,\n",
        "                  df_clean, overwrite=False):\n",
        "    \"\"\"\n",
        "    update line by line in case data are large\n",
        "    \"\"\"\n",
        "\n",
        "    if overwrite or not os.path.exists(target_file):\n",
        "        df_clean.to_csv(target_file, index=False)   \n",
        "    else:\n",
        "        df_clean.to_csv(target_file, mode='a', header=False, index=False)\n",
        "        \n",
        "if __name__ == \"__main__\":\n",
        "  \n",
        "    ## collect args\n",
        "    arg_string = \"%s -d db_filepath -s streams_filepath\"%sys.argv[0]\n",
        "    try:\n",
        "        optlist, args = getopt.getopt(sys.argv[1:],'d:s:')\n",
        "    except getopt.GetoptError:\n",
        "        print(getopt.GetoptError)\n",
        "        raise Exception(arg_string)\n",
        "\n",
        "    ## handle args\n",
        "    streams_file = None\n",
        "    db_file = None\n",
        "    for o, a in optlist:\n",
        "        if o == '-d':\n",
        "            db_file = a\n",
        "        if o == '-s':\n",
        "            streams_file = a\n",
        "    streams_file = os.path.join(DATA_DIR,streams_file)\n",
        "    db_file = os.path.join(DATA_DIR,db_file)\n",
        "    target_file = os.path.join(DATA_DIR, \"aavail-target.csv\")\n",
        "    \n",
        "    ## make the connection to the database\n",
        "    conn = connect_db(db_file)\n",
        "\n",
        "    ## ingest data base data\n",
        "    df_db = ingest_db_data(conn)\n",
        "    df_streams, df_churn = ingest_stream_data(streams_file)\n",
        "    df_clean = process_dataframes(df_db, df_streams, df_churn, conn)\n",
        "    \n",
        "    ## write\n",
        "    update_target(target_file, df_clean, overwrite=False)\n",
        "    print(\"done\")"
      ],
      "execution_count": null,
      "outputs": [
        {
          "output_type": "stream",
          "text": [
            "Overwriting aavail-data-ingestor.py\n"
          ],
          "name": "stdout"
        }
      ]
    },
    {
      "cell_type": "markdown",
      "metadata": {
        "id": "5BJPlIcht-Y4",
        "colab_type": "text"
      },
      "source": [
        "Run the script once for each batch that you created and then load both the original and batch versions back into the notebook to check that they are the same. "
      ]
    },
    {
      "cell_type": "code",
      "metadata": {
        "id": "7_-q6vMtt-Y5",
        "colab_type": "code",
        "colab": {},
        "outputId": "4e96d72d-0858-488b-9c11-c60fe671d606"
      },
      "source": [
        "## YOUR CODE HERE\n",
        "\n",
        "!rm ../data/aavail-target.csv\n",
        "!python aavail-data-ingestor.py -d aavail-customers.db -s aavail-streams-1.csv\n",
        "!wc -l ../data/aavail-target.csv\n",
        "!python aavail-data-ingestor.py -d aavail-customers.db -s aavail-streams-2.csv\n",
        "!wc -l ../data/aavail-target.csv"
      ],
      "execution_count": null,
      "outputs": [
        {
          "output_type": "stream",
          "text": [
            "...successfully connected to db\n",
            "... removed 7 duplicate rows in db data\n",
            "... removed 572 missing stream ids\n",
            "done\n",
            "     501 ../data/aavail-target.csv\n",
            "...successfully connected to db\n",
            "... removed 7 duplicate rows in db data\n",
            "... removed 592 missing stream ids\n",
            "done\n",
            "    1001 ../data/aavail-target.csv\n"
          ],
          "name": "stdout"
        }
      ]
    },
    {
      "cell_type": "code",
      "metadata": {
        "id": "rucm79w6t-ZA",
        "colab_type": "code",
        "colab": {},
        "outputId": "eb49c68f-77be-4852-ce29-63a82e7ce699"
      },
      "source": [
        "!rm ../data/aavail-target.csv\n",
        "!python aavail-data-ingestor.py -d aavail-customers.db -s aavail-streams.csv\n",
        "!wc -l ../data/aavail-target.csv"
      ],
      "execution_count": null,
      "outputs": [
        {
          "output_type": "stream",
          "text": [
            "...successfully connected to db\n",
            "... removed 7 duplicate rows in db data\n",
            "... removed 1164 missing stream ids\n",
            "done\n",
            "    1001 ../data/aavail-target.csv\n"
          ],
          "name": "stdout"
        }
      ]
    },
    {
      "cell_type": "markdown",
      "metadata": {
        "id": "jbtyC2t5t-ZE",
        "colab_type": "text"
      },
      "source": [
        "### QUESTION 6:\n",
        "\n",
        "**How can you improve the process?**\n",
        "\n",
        "In paragraph form or using bullets write down some of the ways that you could improve this pipeline."
      ]
    },
    {
      "cell_type": "markdown",
      "metadata": {
        "id": "1rg3Qgs4t-ZF",
        "colab_type": "text"
      },
      "source": [
        "YOUR ANSWER HERE\n",
        "\n",
        "\n"
      ]
    }
  ]
}